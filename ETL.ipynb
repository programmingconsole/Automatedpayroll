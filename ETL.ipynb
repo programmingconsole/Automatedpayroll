{
  "nbformat": 4,
  "nbformat_minor": 0,
  "metadata": {
    "colab": {
      "provenance": [],
      "toc_visible": true,
      "authorship_tag": "ABX9TyN+zIz/j26MdcEJwXq2Gpty",
      "include_colab_link": true
    },
    "kernelspec": {
      "name": "python3",
      "display_name": "Python 3"
    },
    "language_info": {
      "name": "python"
    }
  },
  "cells": [
    {
      "cell_type": "markdown",
      "metadata": {
        "id": "view-in-github",
        "colab_type": "text"
      },
      "source": [
        "<a href=\"https://colab.research.google.com/github/programmingconsole/Automatedpayroll/blob/master/ETL.ipynb\" target=\"_parent\"><img src=\"https://colab.research.google.com/assets/colab-badge.svg\" alt=\"Open In Colab\"/></a>"
      ]
    },
    {
      "cell_type": "code",
      "source": [
        "pip install requests pandas python-dotenv\n"
      ],
      "metadata": {
        "colab": {
          "base_uri": "https://localhost:8080/"
        },
        "id": "Vc4sJ0AtGL1b",
        "outputId": "cca4151d-4f69-4a10-e4da-eeef10d5048a"
      },
      "execution_count": 2,
      "outputs": [
        {
          "output_type": "stream",
          "name": "stdout",
          "text": [
            "Requirement already satisfied: requests in /usr/local/lib/python3.11/dist-packages (2.32.3)\n",
            "Requirement already satisfied: pandas in /usr/local/lib/python3.11/dist-packages (2.2.2)\n",
            "Collecting python-dotenv\n",
            "  Downloading python_dotenv-1.1.1-py3-none-any.whl.metadata (24 kB)\n",
            "Requirement already satisfied: charset-normalizer<4,>=2 in /usr/local/lib/python3.11/dist-packages (from requests) (3.4.2)\n",
            "Requirement already satisfied: idna<4,>=2.5 in /usr/local/lib/python3.11/dist-packages (from requests) (3.10)\n",
            "Requirement already satisfied: urllib3<3,>=1.21.1 in /usr/local/lib/python3.11/dist-packages (from requests) (2.4.0)\n",
            "Requirement already satisfied: certifi>=2017.4.17 in /usr/local/lib/python3.11/dist-packages (from requests) (2025.6.15)\n",
            "Requirement already satisfied: numpy>=1.23.2 in /usr/local/lib/python3.11/dist-packages (from pandas) (2.0.2)\n",
            "Requirement already satisfied: python-dateutil>=2.8.2 in /usr/local/lib/python3.11/dist-packages (from pandas) (2.9.0.post0)\n",
            "Requirement already satisfied: pytz>=2020.1 in /usr/local/lib/python3.11/dist-packages (from pandas) (2025.2)\n",
            "Requirement already satisfied: tzdata>=2022.7 in /usr/local/lib/python3.11/dist-packages (from pandas) (2025.2)\n",
            "Requirement already satisfied: six>=1.5 in /usr/local/lib/python3.11/dist-packages (from python-dateutil>=2.8.2->pandas) (1.17.0)\n",
            "Downloading python_dotenv-1.1.1-py3-none-any.whl (20 kB)\n",
            "Installing collected packages: python-dotenv\n",
            "Successfully installed python-dotenv-1.1.1\n"
          ]
        }
      ]
    },
    {
      "cell_type": "code",
      "execution_count": 10,
      "metadata": {
        "colab": {
          "base_uri": "https://localhost:8080/"
        },
        "id": "sXt5Dh7gDr22",
        "outputId": "2dc59d96-610e-4e5f-ce32-c05c0c0d9fe8"
      },
      "outputs": [
        {
          "output_type": "stream",
          "name": "stdout",
          "text": [
            "API_KEY: 0ba33728dc1410dbb78b64925c06a14a\n",
            "Raw API Response: {'coord': {'lon': -0.1257, 'lat': 51.5085}, 'weather': [{'id': 803, 'main': 'Clouds', 'description': 'broken clouds', 'icon': '04d'}], 'base': 'stations', 'main': {'temp': 291.25, 'feels_like': 291.31, 'temp_min': 290.13, 'temp_max': 292.88, 'pressure': 1017, 'humidity': 84, 'sea_level': 1017, 'grnd_level': 1013}, 'visibility': 10000, 'wind': {'speed': 3.6, 'deg': 300}, 'clouds': {'all': 75}, 'dt': 1751459228, 'sys': {'type': 2, 'id': 2075535, 'country': 'GB', 'sunrise': 1751428095, 'sunset': 1751487633}, 'timezone': 3600, 'id': 2643743, 'name': 'London', 'cod': 200}\n"
          ]
        }
      ],
      "source": [
        "import os\n",
        "import requests\n",
        "import pandas as pd\n",
        "from dotenv import load_dotenv\n",
        "\n",
        "load_dotenv()\n",
        "API_KEY = \"0ba33728dc1410dbb78b64925c06a14a\"\n",
        "api_key =API_KEY\n",
        "print(\"API_KEY:\", api_key)\n",
        "\n",
        "if not api_key:\n",
        "    raise ValueError(\"API_KEY not found in environment variables!\")\n",
        "\n",
        "base_url = \"https://api.openweathermap.org/data/2.5/weather\"\n",
        "\n",
        "def extract_data(city):\n",
        "    url = f\"{base_url}?q={city}&appid={api_key}\"\n",
        "    response = requests.get(url)\n",
        "    data = response.json()\n",
        "\n",
        "    print(\"Raw API Response:\", data)  # Debug print\n",
        "\n",
        "    if response.status_code != 200 or \"name\" not in data:\n",
        "        raise ValueError(f\"API request failed or city not found: {data}\")\n",
        "\n",
        "    return data\n",
        "\n",
        "def transform_data(data):\n",
        "    transformed_data = {\n",
        "        \"city\": data[\"name\"],\n",
        "        \"temperature\": data[\"main\"][\"temp\"],\n",
        "        \"description\": data[\"weather\"][0][\"description\"]\n",
        "    }\n",
        "    return transformed_data\n",
        "\n",
        "def load_data(data, filename):\n",
        "    df = pd.DataFrame([data])\n",
        "    df.to_csv(filename, index=False)\n",
        "\n",
        "def run_etl():\n",
        "    city = \"London\"\n",
        "    data = extract_data(city)\n",
        "    transformed = transform_data(data)\n",
        "    load_data(transformed, \"weather.csv\")\n",
        "\n",
        "run_etl()\n"
      ]
    },
    {
      "cell_type": "code",
      "source": [
        "API_KEY = \"0ba33728dc1410dbb78b64925c06a14a\""
      ],
      "metadata": {
        "id": "XdKpbOrbHibc"
      },
      "execution_count": null,
      "outputs": []
    }
  ]
}